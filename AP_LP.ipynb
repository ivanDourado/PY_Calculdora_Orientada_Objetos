{
  "nbformat": 4,
  "nbformat_minor": 0,
  "metadata": {
    "colab": {
      "provenance": []
    },
    "kernelspec": {
      "name": "python3",
      "display_name": "Python 3"
    },
    "language_info": {
      "name": "python"
    }
  },
  "cells": [
    {
      "cell_type": "markdown",
      "source": [
        "# Exercício 1"
      ],
      "metadata": {
        "id": "-6pDM0cJ0nI4"
      }
    },
    {
      "cell_type": "code",
      "execution_count": null,
      "metadata": {
        "id": "O1icmUCcU1IF"
      },
      "outputs": [],
      "source": [
        "class calculadora: # Crio class calculadora\n",
        "    def __init__(self): # dentro da class, crio função __init__ que recebe como parametro o self\n",
        "        self.num1 = 0 # inicializo as variaveis de self atribuido-lhes valor zero\n",
        "        self.num2 =0 # inicializo as variaveis de self atribuido-lhes valor zero\n",
        "        self.resultado=0 # inicializo as variaveis de self atribuido-lhes valor zero\n",
        "\n",
        "    def somar(self, num1, num2): # dentro da class, crio função somar que recebe como parametro o self, num1, num2\n",
        "        self.num1 = num1 # self.num1 recebe num1\n",
        "        self.num2=num2 # self.num1 recebe num1\n",
        "        self.resultado=self.num1+self.num2 # self.resultado recebe a operação matemática da função com os dois numeros\n",
        "        return self.resultado # retorna novo valor de self.resultado\n",
        "\n",
        "    def subtrair(self, num1, num2):\n",
        "        self.num1 = num1 # self.num1 recebe num1\n",
        "        self.num2=num2 # self.num1 recebe num1\n",
        "        self.resultado=self.num1-self.num2 # self.resultado recebe a operação matemática da função com os dois numeros\n",
        "        return self.resultado # retorna novo valor de self.resultado\n",
        "\n",
        "\n",
        "    def multiplicar(self, num1, num2):\n",
        "        self.num1 = num1 # self.num1 recebe num1\n",
        "        self.num2=num2 # self.num1 recebe num1\n",
        "        self.resultado=self.num1*self.num2 # self.resultado recebe a operação matemática da função com os dois numeros\n",
        "        return self.resultado # retorna novo valor de self.resultado\n",
        "\n",
        "    def dividir(self, num1, num2):\n",
        "        self.num1 = num1 # self.num1 recebe num1\n",
        "        self.num2=num2 # self.num1 recebe num1\n",
        "        self.resultado=self.num1/self.num2 # self.resultado recebe a operação matemática da função com os dois numeros\n",
        "        return self.resultado # retorna novo valor de self.resultado\n",
        "\n",
        "    def expoente(self, num1, num2):\n",
        "        self.num1=num1 # self.num1 recebe num1\n",
        "        self.num2=num2 # self.num1 recebe num1\n",
        "        self.resultado=self.num1**self.num2 # self.resultado recebe a operação matemática da função com os dois numeros\n",
        "        return self.resultado # retorna novo valor de self.resultado\n",
        "\n",
        "    def resto(self, num1, num2):\n",
        "        self.num1 = num1 # self.num1 recebe num1\n",
        "        self.num2=num2 # self.num1 recebe num1\n",
        "        self.resultado=self.num1 % self.num2 # self.resultado recebe a operação matemática da função com os dois numeros\n",
        "        return self.resultado # retorna novo valor de self.resultado\n",
        "\n",
        "def continuar(entrada): # Crio a função continuar que recebe como parametro entrada\n",
        "    if entrada: # Se entrada retornar True (não vazio)\n",
        "        return True #Retorna true\n",
        "    else: # senão\n",
        "        return False # retorna False\n",
        "\n",
        "def menu(): # Crio função menu\n",
        "    # Abaixo criado o dicionário opc com as operações matematicas\n",
        "    opc = {1: 'Adição',\n",
        "           2: 'Subtração',\n",
        "           3: 'Multiplicação',\n",
        "           4: 'Divisão',\n",
        "           5: 'Exponenciação',\n",
        "           6: 'Módulo (resto)'}\n",
        "    calc= calculadora() #variavel calc chama a classe calculadora como função\n",
        "    print(\"\"\"\n",
        "        Qual é a operação matemática desejada?\n",
        "        1 -> Adição\n",
        "        2 -> Subtração\n",
        "        3 -> Multiplicação\n",
        "        4 -> Divisão\n",
        "        5 -> Exponenciação\n",
        "        6 -> Módulo (resto)\n",
        "\n",
        "        Digite o número desejado e aperte ENTER\"\"\") # Print do Menu calculadora\n",
        "    calcular = True # inicializa variavel calcular como true\n",
        "    while calcular: # enquanto calcular retorna true\n",
        "        opcao = input('\\nEscolha a opção de cálculo desejada (1, 2, 3, 4, 5 ou 6): ') # input para o usuario escolher operaçao\n",
        "        if not(opcao in '123456'): # Caso seja um valor fora das opções informadas\n",
        "            print('Opção escolhida é inválida!') # imprime mensagem de erro no console\n",
        "            continue # reinicia  laço while\n",
        "        else: # senão\n",
        "            opcao=int(opcao)  # o valor é convertido para int\n",
        "            print(f'A operação matemática escolhida {opc[opcao]} é válida') # informa qque a opção escolhida é válida\n",
        "            print('Apenas números inteiros serão trabalhados!! ') # informa que se trabalhará somente com inteiros\n",
        "        if opcao == 1: # se a opção for  1\n",
        "        # pede para o usuario inserir os ultimos dois numeros do RU\n",
        "            num1 = int(input(\"Digite o penúltimo número de seu RU: \"))\n",
        "            num2 = int(input(\"Digite o último número de seu RU: \"))\n",
        "            # variavel resultado recebe a função contida na classe que realiza a respectiva operação matemática\n",
        "            resultado = calc.somar(num1,num2)\n",
        "            print(f'O valor da operação de adição é {resultado}.') # printa resultado\n",
        "            # pergunta se deseja continuar, re responder vazio, a variavel calcular receberá false, interrompendo o laço\n",
        "            calcular = continuar(input('Digite alguma coisa para continuar ou apertar ENTER para sair da calculadora!'))\n",
        "        elif opcao == 2:# se a opção for 2\n",
        "        # pede para o usuario inserir os ultimos dois numeros do RU\n",
        "            num1 = int(input(\"Digite o penúltimo número de seu RU: \"))\n",
        "            num2 = int(input(\"Digite o último número de seu RU: \"))\n",
        "            # variavel resultado recebe a função contida na classe que realiza a respectiva operação matemática\n",
        "            resultado = calc.subtrair(num1,num2)\n",
        "            print(f'O valor da operação de subtração é {resultado}.') # printa resultado\n",
        "            calcular = continuar(input('Digite alguma coisa para continuar ou apertar ENTER para sair da calculadora!'))\n",
        "        elif opcao == 3:# se a opção for 3\n",
        "        # pede para o usuario inserir os ultimos dois numeros do RU\n",
        "            num1 = int(input(\"Digite o penúltimo número de seu RU: \"))\n",
        "            num2 = int(input(\"Digite o último número de seu RU: \"))\n",
        "            # variavel resultado recebe a função contida na classe que realiza a respectiva operação matemática\n",
        "            resultado = calc.multiplicar(num1,num2)\n",
        "            print(f'O valor da operação de multiplicação é {resultado}.') # printa resultado\n",
        "            # pergunta se deseja continuar, re responder vazio, a variavel calcular receberá false, interrompendo o laço\n",
        "            calcular = continuar(input('Digite alguma coisa para continuar ou apertar ENTER para sair da calculadora!'))\n",
        "        elif opcao == 4:# se a opção for 4\n",
        "        # pede para o usuario inserir os ultimos dois numeros do RU\n",
        "            num1 = int(input(\"Digite o penúltimo número de seu RU: \"))\n",
        "            num2 = int(input(\"Digite o último número de seu RU: \"))\n",
        "            # variavel resultado recebe a função contida na classe que realiza a respectiva operação matemática\n",
        "            resultado = calc.dividir(num1,num2)\n",
        "            print(f'O valor da operação de divisão é {resultado}.') # printa resultado\n",
        "            # pergunta se deseja continuar, re responder vazio, a variavel calcular receberá false, interrompendo o laço\n",
        "            calcular = continuar(input('Digite alguma coisa para continuar ou apertar ENTER para sair da calculadora!'))\n",
        "        elif opcao == 5:# se a opção for 5\n",
        "        # pede para o usuario inserir os ultimos dois numeros do RU\n",
        "            num1 = int(input(\"Digite o penúltimo número de seu RU: \"))\n",
        "            num2 = int(input(\"Digite o último número de seu RU: \"))\n",
        "            # variavel resultado recebe a função contida na classe que realiza a respectiva operação matemática\n",
        "            resultado = calc.expoente(num1,num2)\n",
        "            print(f'O valor da operação de exponenciação é {resultado}.') # printa resultado\n",
        "            # pergunta se deseja continuar, re responder vazio, a variavel calcular receberá false, interrompendo o laço\n",
        "            calcular = continuar(input('Digite alguma coisa para continuar ou apertar ENTER para sair da calculadora!'))\n",
        "        elif opcao == 6:# se a opção for 6\n",
        "        # pede para o usuario inserir os ultimos dois numeros do RU\n",
        "            num1 = int(input(\"Digite o penúltimo número de seu RU: \"))\n",
        "            num2 = int(input(\"Digite o último número de seu RU: \"))\n",
        "            # variavel resultado recebe a função contida na classe que realiza a respectiva operação matemática\n",
        "            resultado = calc.resto(num1,num2)\n",
        "            print(f'O valor da operação de módulo(resto) é {resultado}.') # printa resultado\n",
        "            # pergunta se deseja continuar, re responder vazio, a variavel calcular receberá false, interrompendo o laço\n",
        "            calcular = continuar(input('Digite alguma coisa para continuar ou apertar ENTER para sair da calculadora!'))\n",
        "        print('Cálculo encerrado.') # Informa o encerramento a cada cálculo.\n",
        "\n",
        "\n",
        "\n"
      ]
    },
    {
      "cell_type": "code",
      "source": [
        "menu()"
      ],
      "metadata": {
        "colab": {
          "base_uri": "https://localhost:8080/"
        },
        "id": "xSLCii_HU_GO",
        "outputId": "357cae2a-85c7-4585-8d8b-4cef56609275"
      },
      "execution_count": null,
      "outputs": [
        {
          "output_type": "stream",
          "name": "stdout",
          "text": [
            "\n",
            "        Qual é a operação matemática desejada? \n",
            "        1 -> Adição\n",
            "        2 -> Subtração\n",
            "        3 -> Multiplicação\n",
            "        4 -> Divisão\n",
            "        5 -> Exponenciação\n",
            "        6 -> Módulo (resto)\n",
            "        \n",
            "        Digite o número desejado e aperte ENTER\n",
            "\n",
            "Escolha a opção de cálculo desejada (1, 2, 3, 4, 5 ou 6): 2\n",
            "A operação matemática escolhida Subtração é válida\n",
            "Apenas números inteiros serão trabalhados!! \n",
            "Digite o penúltimo número de seu RU: 5\n",
            "Digite o último número de seu RU: 6\n",
            "O valor da operação de subtração é -1.\n",
            "Digite alguma coisa para continuar ou apertar ENTER para sair da calculadora!.\n",
            "Cálculo encerrado.\n",
            "\n",
            "Escolha a opção de cálculo desejada (1, 2, 3, 4, 5 ou 6):  \n",
            "Opção escolhida é inválida!\n",
            "\n",
            "Escolha a opção de cálculo desejada (1, 2, 3, 4, 5 ou 6): 2\n",
            "A operação matemática escolhida Subtração é válida\n",
            "Apenas números inteiros serão trabalhados!! \n",
            "Digite o penúltimo número de seu RU: 6\n",
            "Digite o último número de seu RU: 6\n",
            "O valor da operação de subtração é 0.\n",
            "Digite alguma coisa para continuar ou apertar ENTER para sair da calculadora!\n",
            "Cálculo encerrado.\n"
          ]
        }
      ]
    },
    {
      "cell_type": "markdown",
      "source": [
        "# exercício 2"
      ],
      "metadata": {
        "id": "66ia_FYXabDc"
      }
    },
    {
      "cell_type": "code",
      "source": [
        "\n",
        "import matplotlib.pyplot as plt # importo a biblioteca matplotlib\n",
        "# automatizando o cálculo, tornando-o um algoritmo global\n",
        "class equacao: #crio a classe equação chamando os valores para X\n",
        "  def __init__(self, x): # função init com parametros self e x\n",
        "    self.x = int(x) # Seu valor será inteiro\n",
        "\n",
        "  def valor(self): # retorna os valores\n",
        "  #abaixo é uma docstring\n",
        "    '''RU: 3357756\n",
        "    a,b,c => 3 últimos números do meu RU\n",
        "    y=> retorna o resultado da função do 1º grau'''\n",
        "    a=7 # valores do RU\n",
        "    b=5 # valores do RU\n",
        "    c=6 # valores do RU\n",
        "    y=self.x*a + self.x*b - c # retorna a equação do 1º com respectivo valor de x\n",
        "    return y # retorna valor de y\n",
        "\n",
        "eixoX = [10,8,15] # pontos dados do eixo X\n",
        "eixoY=[] # Eixo y/ coordenadas recebe lista vazia\n",
        "\n",
        "for i in eixoX: # iteração, para cada item da lista\n",
        "  y = equacao(i) # y recebe resultado da classse funçao equação\n",
        "  eixoY.append(y.valor()) # Será inserido ao fim da lista eixoY cada valor de y\n",
        "\n",
        "plt.plot(eixoX[0], eixoY[0], color = 'red', marker=\"o\", markersize=9, markerfacecolor='blue') # realizar grafico com os parametros eixoX e eixoY, e cor\n",
        "plt.plot(eixoX[1], eixoY[1], color = 'red', marker=\"o\", markersize=9, markerfacecolor='green') # realizar grafico com os parametros eixoX e eixoY, e cor\n",
        "plt.plot(eixoX[2], eixoY[2], color = 'red', marker=\"o\", markersize=9, markerfacecolor='yellow') # realizar grafico com os parametros eixoX e eixoY, e cor\n",
        "\n",
        "\n",
        "plt.legend([f'p1({eixoX[0]}, {eixoY[0]})',f'p2({eixoX[1]}, {eixoY[1]})', f'p3({eixoX[2]}, {eixoY[2]})']) # Legenda por ponto de acordo com seu índice na lista\n",
        "plt.title('Gráfico do exercício 2') # título do gráfico\n",
        "plt.grid() # fundo quadriculado\n",
        "\n",
        "\n",
        "\n",
        "\n",
        "\n",
        "\n",
        "\n"
      ],
      "metadata": {
        "id": "38E5kkzfVAHc",
        "colab": {
          "base_uri": "https://localhost:8080/",
          "height": 281
        },
        "outputId": "34d3ded9-7180-4128-c95e-80cfb6f8d5fb"
      },
      "execution_count": null,
      "outputs": [
        {
          "output_type": "display_data",
          "data": {
            "text/plain": [
              "<Figure size 432x288 with 1 Axes>"
            ],
            "image/png": "[encoded data removed]"
          },
          "metadata": {
            "needs_background": "light"
          }
        }
      ]
    },
    {
      "cell_type": "code",
      "source": [],
      "metadata": {
        "id": "DbmfMCJkntzv"
      },
      "execution_count": null,
      "outputs": []
    },
    {
      "cell_type": "markdown",
      "source": [
        "# outra via do exercicio 2 segundo a profª\n"
      ],
      "metadata": {
        "id": "G_b9tdupr-yP"
      }
    },
    {
      "cell_type": "code",
      "source": [
        "from matplotlib import pyplot as plt # importo da biblioteca matplotlib o método pyplot\n",
        "def menu(x,a,b,c): # o menu resultará nos valores de y1, y2, y3 por meio da equação ax + bx -c\n",
        "    y = a*x + b*x - c # y recebe equação dp 1º grau ax + bx - c\n",
        "    return y #retorna y\n",
        "\n",
        "x1= 5 # valores de x\n",
        "x2=7  # valores de x\n",
        "x3=9  # valores de x\n",
        "\n",
        "a=1 # valores dos ultimos 3 numeros do meu RU\n",
        "b=3 # valores dos ultimos 3 numeros do meu RU\n",
        "c=3 # valores dos ultimos 3 numeros do meu RU\n",
        "\n",
        "plt.title('Equação a*x + b*x - c') # titulo do grafico\n",
        "plt.grid() # fundo quadriculado do gráfico\n",
        "plt.plot(x1, menu(x1, a, b, c), marker=\"o\", markerfacecolor='blue') # plota os pontos (x,y) no grafico com \"o\" na cor azul\n",
        "plt.plot(x2, menu(x2, a, b, c), marker=\"o\") # plota os pontos (x,y) no grafico com \"o\"\n",
        "plt.plot(x3, menu(x3, a, b, c), marker=\"o\") # plota os pontos (x,y) no grafico com \"o\"\n",
        "\n",
        "#inserindo legenda no gráfico:\n",
        "plt.legend([f'x={x1} y={menu(x1,a,b,c)}', f'x={x2} y={menu(x2,a,b,c)}', f'x={x3} y={menu(x3,a,b,c)}'])\n",
        "\n",
        "\n",
        "\n",
        "plt.show()\n",
        "\n"
      ],
      "metadata": {
        "colab": {
          "base_uri": "https://localhost:8080/",
          "height": 281
        },
        "id": "ZYT2LlqGnvtZ",
        "outputId": "cb3465e0-1669-4882-96e1-83f17ebb77d1"
      },
      "execution_count": null,
      "outputs": [
        {
          "output_type": "display_data",
          "data": {
            "text/plain": [
              "<Figure size 432x288 with 1 Axes>"
            ],
            "image/png": "[encoded data removed]"
          },
          "metadata": {
            "needs_background": "light"
          }
        }
      ]
    },
    {
      "cell_type": "markdown",
      "source": [
        "# Exercício 3"
      ],
      "metadata": {
        "id": "Ly9v4eB50tTH"
      }
    },
    {
      "cell_type": "code",
      "source": [
        "import pandas as pd # importando biblioteca pandas\n",
        "from google.colab import drive,files # do google.colab importando drive e file\n",
        "\n"
      ],
      "metadata": {
        "id": "m_8vKp3_GXj1"
      },
      "execution_count": null,
      "outputs": []
    },
    {
      "cell_type": "code",
      "source": [
        "drive.mount('/content/drive') # 'monto' o drive, de modo a aceder acesso deste notebook a meus diretórios no google drive"
      ],
      "metadata": {
        "colab": {
          "base_uri": "https://localhost:8080/"
        },
        "id": "Nmun8xDe1Hul",
        "outputId": "32dce55e-1b1c-4616-cf3a-341c56beea9f"
      },
      "execution_count": null,
      "outputs": [
        {
          "output_type": "stream",
          "name": "stdout",
          "text": [
            "Drive already mounted at /content/drive; to attempt to forcibly remount, call drive.mount(\"/content/drive\", force_remount=True).\n"
          ]
        }
      ]
    },
    {
      "cell_type": "code",
      "source": [
        "#importando arquivoStores.csv\n",
        "caminho = '/content/drive/MyDrive/ciencia_de_dados_Uninter/AP-linguagem_prog/archive_stores/Stores.csv' # var caminho recebe caminho do arquivo no diretorio do drive\n",
        "df = pd.read_csv(caminho, sep=',', encoding='iso-8859-15') # ler arquivo csv read_csv('caminho do arquivo no drive'); separado por virgula; encoding padrao da europa ocidental\n",
        "df.head() # exibir cabeçalho/ primeiras 5 linhas"
      ],
      "metadata": {
        "colab": {
          "base_uri": "https://localhost:8080/",
          "height": 206
        },
        "id": "_Mk4cp_q1cE2",
        "outputId": "5da6690e-c23f-4461-b533-c54da6e6e381"
      },
      "execution_count": null,
      "outputs": [
        {
          "output_type": "execute_result",
          "data": {
            "text/plain": [
              "   ï»¿Store ID   Store_Area  Items_Available  Daily_Customer_Count  \\\n",
              "0             1        1659             1961                   530   \n",
              "1             2        1461             1752                   210   \n",
              "2             3        1340             1609                   720   \n",
              "3             4        1451             1748                   620   \n",
              "4             5        1770             2111                   450   \n",
              "\n",
              "   Store_Sales  \n",
              "0        66490  \n",
              "1        39820  \n",
              "2        54010  \n",
              "3        53730  \n",
              "4        46620  "
            ],
            "text/html": [
              "\n",
              "  <div id=\"df-e51e8d2d-bb1b-4d6b-b008-808aac871822\">\n",
              "    <div class=\"colab-df-container\">\n",
              "      <div>\n",
              "<style scoped>\n",
              "    .dataframe tbody tr th:only-of-type {\n",
              "        vertical-align: middle;\n",
              "    }\n",
              "\n",
              "    .dataframe tbody tr th {\n",
              "        vertical-align: top;\n",
              "    }\n",
              "\n",
              "    .dataframe thead th {\n",
              "        text-align: right;\n",
              "    }\n",
              "</style>\n",
              "<table border=\"1\" class=\"dataframe\">\n",
              "  <thead>\n",
              "    <tr style=\"text-align: right;\">\n",
              "      <th></th>\n",
              "      <th>ï»¿Store ID</th>\n",
              "      <th>Store_Area</th>\n",
              "      <th>Items_Available</th>\n",
              "      <th>Daily_Customer_Count</th>\n",
              "      <th>Store_Sales</th>\n",
              "    </tr>\n",
              "  </thead>\n",
              "  <tbody>\n",
              "    <tr>\n",
              "      <th>0</th>\n",
              "      <td>1</td>\n",
              "      <td>1659</td>\n",
              "      <td>1961</td>\n",
              "      <td>530</td>\n",
              "      <td>66490</td>\n",
              "    </tr>\n",
              "    <tr>\n",
              "      <th>1</th>\n",
              "      <td>2</td>\n",
              "      <td>1461</td>\n",
              "      <td>1752</td>\n",
              "      <td>210</td>\n",
              "      <td>39820</td>\n",
              "    </tr>\n",
              "    <tr>\n",
              "      <th>2</th>\n",
              "      <td>3</td>\n",
              "      <td>1340</td>\n",
              "      <td>1609</td>\n",
              "      <td>720</td>\n",
              "      <td>54010</td>\n",
              "    </tr>\n",
              "    <tr>\n",
              "      <th>3</th>\n",
              "      <td>4</td>\n",
              "      <td>1451</td>\n",
              "      <td>1748</td>\n",
              "      <td>620</td>\n",
              "      <td>53730</td>\n",
              "    </tr>\n",
              "    <tr>\n",
              "      <th>4</th>\n",
              "      <td>5</td>\n",
              "      <td>1770</td>\n",
              "      <td>2111</td>\n",
              "      <td>450</td>\n",
              "      <td>46620</td>\n",
              "    </tr>\n",
              "  </tbody>\n",
              "</table>\n",
              "</div>\n",
              "      <button class=\"colab-df-convert\" onclick=\"convertToInteractive('df-e51e8d2d-bb1b-4d6b-b008-808aac871822')\"\n",
              "              title=\"Convert this dataframe to an interactive table.\"\n",
              "              style=\"display:none;\">\n",
              "        \n",
              "  <svg xmlns=\"http://www.w3.org/2000/svg\" height=\"24px\"viewBox=\"0 0 24 24\"\n",
              "       width=\"24px\">\n",
              "    <path d=\"M0 0h24v24H0V0z\" fill=\"none\"/>\n",
              "    <path d=\"M18.56 5.44l.94 2.06.94-2.06 2.06-.94-2.06-.94-.94-2.06-.94 2.06-2.06.94zm-11 1L8.5 8.5l.94-2.06 2.06-.94-2.06-.94L8.5 2.5l-.94 2.06-2.06.94zm10 10l.94 2.06.94-2.06 2.06-.94-2.06-.94-.94-2.06-.94 2.06-2.06.94z\"/><path d=\"M17.41 7.96l-1.37-1.37c-.4-.4-.92-.59-1.43-.59-.52 0-1.04.2-1.43.59L10.3 9.45l-7.72 7.72c-.78.78-.78 2.05 0 2.83L4 21.41c.39.39.9.59 1.41.59.51 0 1.02-.2 1.41-.59l7.78-7.78 2.81-2.81c.8-.78.8-2.07 0-2.86zM5.41 20L4 18.59l7.72-7.72 1.47 1.35L5.41 20z\"/>\n",
              "  </svg>\n",
              "      </button>\n",
              "      \n",
              "  <style>\n",
              "    .colab-df-container {\n",
              "      display:flex;\n",
              "      flex-wrap:wrap;\n",
              "      gap: 12px;\n",
              "    }\n",
              "\n",
              "    .colab-df-convert {\n",
              "      background-color: #E8F0FE;\n",
              "      border: none;\n",
              "      border-radius: 50%;\n",
              "      cursor: pointer;\n",
              "      display: none;\n",
              "      fill: #1967D2;\n",
              "      height: 32px;\n",
              "      padding: 0 0 0 0;\n",
              "      width: 32px;\n",
              "    }\n",
              "\n",
              "    .colab-df-convert:hover {\n",
              "      background-color: #E2EBFA;\n",
              "      box-shadow: 0px 1px 2px rgba(60, 64, 67, 0.3), 0px 1px 3px 1px rgba(60, 64, 67, 0.15);\n",
              "      fill: #174EA6;\n",
              "    }\n",
              "\n",
              "    [theme=dark] .colab-df-convert {\n",
              "      background-color: #3B4455;\n",
              "      fill: #D2E3FC;\n",
              "    }\n",
              "\n",
              "    [theme=dark] .colab-df-convert:hover {\n",
              "      background-color: #434B5C;\n",
              "      box-shadow: 0px 1px 3px 1px rgba(0, 0, 0, 0.15);\n",
              "      filter: drop-shadow(0px 1px 2px rgba(0, 0, 0, 0.3));\n",
              "      fill: #FFFFFF;\n",
              "    }\n",
              "  </style>\n",
              "\n",
              "      <script>\n",
              "        const buttonEl =\n",
              "          document.querySelector('#df-e51e8d2d-bb1b-4d6b-b008-808aac871822 button.colab-df-convert');\n",
              "        buttonEl.style.display =\n",
              "          google.colab.kernel.accessAllowed ? 'block' : 'none';\n",
              "\n",
              "        async function convertToInteractive(key) {\n",
              "          const element = document.querySelector('#df-e51e8d2d-bb1b-4d6b-b008-808aac871822');\n",
              "          const dataTable =\n",
              "            await google.colab.kernel.invokeFunction('convertToInteractive',\n",
              "                                                     [key], {});\n",
              "          if (!dataTable) return;\n",
              "\n",
              "          const docLinkHtml = 'Like what you see? Visit the ' +\n",
              "            '<a target=\"_blank\" href=https://colab.research.google.com/notebooks/data_table.ipynb>data table notebook</a>'\n",
              "            + ' to learn more about interactive tables.';\n",
              "          element.innerHTML = '';\n",
              "          dataTable['output_type'] = 'display_data';\n",
              "          await google.colab.output.renderOutput(dataTable, element);\n",
              "          const docLink = document.createElement('div');\n",
              "          docLink.innerHTML = docLinkHtml;\n",
              "          element.appendChild(docLink);\n",
              "        }\n",
              "      </script>\n",
              "    </div>\n",
              "  </div>\n",
              "  "
            ]
          },
          "metadata": {},
          "execution_count": 9
        }
      ]
    },
    {
      "cell_type": "code",
      "source": [
        "df.columns.values # exibe valor das colunas"
      ],
      "metadata": {
        "colab": {
          "base_uri": "https://localhost:8080/"
        },
        "id": "m2IMLnZI6Myy",
        "outputId": "42655575-bcb3-4dbb-a62f-264f4d19097e"
      },
      "execution_count": null,
      "outputs": [
        {
          "output_type": "execute_result",
          "data": {
            "text/plain": [
              "array(['ï»¿Store ID ', 'Store_Area', 'Items_Available',\n",
              "       'Daily_Customer_Count', 'Store_Sales'], dtype=object)"
            ]
          },
          "metadata": {},
          "execution_count": 4
        }
      ]
    },
    {
      "cell_type": "code",
      "source": [
        "#renomeando colunas\n",
        "df_colunas = ['ï»¿Store ID ', 'Store_Area', 'Items_Available','Daily_Customer_Count', 'Store_Sales'] # pegando as colunas para renomear\n",
        "df_filtrado=df.filter(items=df_colunas) # filtrar as colunas\n",
        "df_filtrado=df_filtrado.rename(columns={ # renomeando cada coluna 'nome_antigo':'nome_novo'\n",
        "    'ï»¿Store ID ':'ID',\n",
        "    'Store_Area':'Itens',\n",
        "    'Items_Available':'ítens_disponíveis',\n",
        "    'Daily_Customer_Count':'Visitantes_mensais',\n",
        "    'Store_Sales':'Vendas_da_loja(US$)'\n",
        "})\n",
        "df_filtrado # chama exibindo as colunas renomeadas"
      ],
      "metadata": {
        "colab": {
          "base_uri": "https://localhost:8080/",
          "height": 424
        },
        "id": "9py6fQ5y6QDA",
        "outputId": "b539cf83-493b-4733-8866-68849b6dd65e"
      },
      "execution_count": null,
      "outputs": [
        {
          "output_type": "execute_result",
          "data": {
            "text/plain": [
              "      ID  Itens  ítens_disponíveis  Visitantes_mensais  Vendas_da_loja(US$)\n",
              "0      1   1659               1961                 530                66490\n",
              "1      2   1461               1752                 210                39820\n",
              "2      3   1340               1609                 720                54010\n",
              "3      4   1451               1748                 620                53730\n",
              "4      5   1770               2111                 450                46620\n",
              "..   ...    ...                ...                 ...                  ...\n",
              "891  892   1582               1910                1080                66390\n",
              "892  893   1387               1663                 850                82080\n",
              "893  894   1200               1436                1060                76440\n",
              "894  895   1299               1560                 770                96610\n",
              "895  896   1174               1429                1110                54340\n",
              "\n",
              "[896 rows x 5 columns]"
            ],
            "text/html": [
              "\n",
              "  <div id=\"df-9ebcc7e3-dd3a-4c1e-a703-173348b74027\">\n",
              "    <div class=\"colab-df-container\">\n",
              "      <div>\n",
              "<style scoped>\n",
              "    .dataframe tbody tr th:only-of-type {\n",
              "        vertical-align: middle;\n",
              "    }\n",
              "\n",
              "    .dataframe tbody tr th {\n",
              "        vertical-align: top;\n",
              "    }\n",
              "\n",
              "    .dataframe thead th {\n",
              "        text-align: right;\n",
              "    }\n",
              "</style>\n",
              "<table border=\"1\" class=\"dataframe\">\n",
              "  <thead>\n",
              "    <tr style=\"text-align: right;\">\n",
              "      <th></th>\n",
              "      <th>ID</th>\n",
              "      <th>Itens</th>\n",
              "      <th>ítens_disponíveis</th>\n",
              "      <th>Visitantes_mensais</th>\n",
              "      <th>Vendas_da_loja(US$)</th>\n",
              "    </tr>\n",
              "  </thead>\n",
              "  <tbody>\n",
              "    <tr>\n",
              "      <th>0</th>\n",
              "      <td>1</td>\n",
              "      <td>1659</td>\n",
              "      <td>1961</td>\n",
              "      <td>530</td>\n",
              "      <td>66490</td>\n",
              "    </tr>\n",
              "    <tr>\n",
              "      <th>1</th>\n",
              "      <td>2</td>\n",
              "      <td>1461</td>\n",
              "      <td>1752</td>\n",
              "      <td>210</td>\n",
              "      <td>39820</td>\n",
              "    </tr>\n",
              "    <tr>\n",
              "      <th>2</th>\n",
              "      <td>3</td>\n",
              "      <td>1340</td>\n",
              "      <td>1609</td>\n",
              "      <td>720</td>\n",
              "      <td>54010</td>\n",
              "    </tr>\n",
              "    <tr>\n",
              "      <th>3</th>\n",
              "      <td>4</td>\n",
              "      <td>1451</td>\n",
              "      <td>1748</td>\n",
              "      <td>620</td>\n",
              "      <td>53730</td>\n",
              "    </tr>\n",
              "    <tr>\n",
              "      <th>4</th>\n",
              "      <td>5</td>\n",
              "      <td>1770</td>\n",
              "      <td>2111</td>\n",
              "      <td>450</td>\n",
              "      <td>46620</td>\n",
              "    </tr>\n",
              "    <tr>\n",
              "      <th>...</th>\n",
              "      <td>...</td>\n",
              "      <td>...</td>\n",
              "      <td>...</td>\n",
              "      <td>...</td>\n",
              "      <td>...</td>\n",
              "    </tr>\n",
              "    <tr>\n",
              "      <th>891</th>\n",
              "      <td>892</td>\n",
              "      <td>1582</td>\n",
              "      <td>1910</td>\n",
              "      <td>1080</td>\n",
              "      <td>66390</td>\n",
              "    </tr>\n",
              "    <tr>\n",
              "      <th>892</th>\n",
              "      <td>893</td>\n",
              "      <td>1387</td>\n",
              "      <td>1663</td>\n",
              "      <td>850</td>\n",
              "      <td>82080</td>\n",
              "    </tr>\n",
              "    <tr>\n",
              "      <th>893</th>\n",
              "      <td>894</td>\n",
              "      <td>1200</td>\n",
              "      <td>1436</td>\n",
              "      <td>1060</td>\n",
              "      <td>76440</td>\n",
              "    </tr>\n",
              "    <tr>\n",
              "      <th>894</th>\n",
              "      <td>895</td>\n",
              "      <td>1299</td>\n",
              "      <td>1560</td>\n",
              "      <td>770</td>\n",
              "      <td>96610</td>\n",
              "    </tr>\n",
              "    <tr>\n",
              "      <th>895</th>\n",
              "      <td>896</td>\n",
              "      <td>1174</td>\n",
              "      <td>1429</td>\n",
              "      <td>1110</td>\n",
              "      <td>54340</td>\n",
              "    </tr>\n",
              "  </tbody>\n",
              "</table>\n",
              "<p>896 rows × 5 columns</p>\n",
              "</div>\n",
              "      <button class=\"colab-df-convert\" onclick=\"convertToInteractive('df-9ebcc7e3-dd3a-4c1e-a703-173348b74027')\"\n",
              "              title=\"Convert this dataframe to an interactive table.\"\n",
              "              style=\"display:none;\">\n",
              "        \n",
              "  <svg xmlns=\"http://www.w3.org/2000/svg\" height=\"24px\"viewBox=\"0 0 24 24\"\n",
              "       width=\"24px\">\n",
              "    <path d=\"M0 0h24v24H0V0z\" fill=\"none\"/>\n",
              "    <path d=\"M18.56 5.44l.94 2.06.94-2.06 2.06-.94-2.06-.94-.94-2.06-.94 2.06-2.06.94zm-11 1L8.5 8.5l.94-2.06 2.06-.94-2.06-.94L8.5 2.5l-.94 2.06-2.06.94zm10 10l.94 2.06.94-2.06 2.06-.94-2.06-.94-.94-2.06-.94 2.06-2.06.94z\"/><path d=\"M17.41 7.96l-1.37-1.37c-.4-.4-.92-.59-1.43-.59-.52 0-1.04.2-1.43.59L10.3 9.45l-7.72 7.72c-.78.78-.78 2.05 0 2.83L4 21.41c.39.39.9.59 1.41.59.51 0 1.02-.2 1.41-.59l7.78-7.78 2.81-2.81c.8-.78.8-2.07 0-2.86zM5.41 20L4 18.59l7.72-7.72 1.47 1.35L5.41 20z\"/>\n",
              "  </svg>\n",
              "      </button>\n",
              "      \n",
              "  <style>\n",
              "    .colab-df-container {\n",
              "      display:flex;\n",
              "      flex-wrap:wrap;\n",
              "      gap: 12px;\n",
              "    }\n",
              "\n",
              "    .colab-df-convert {\n",
              "      background-color: #E8F0FE;\n",
              "      border: none;\n",
              "      border-radius: 50%;\n",
              "      cursor: pointer;\n",
              "      display: none;\n",
              "      fill: #1967D2;\n",
              "      height: 32px;\n",
              "      padding: 0 0 0 0;\n",
              "      width: 32px;\n",
              "    }\n",
              "\n",
              "    .colab-df-convert:hover {\n",
              "      background-color: #E2EBFA;\n",
              "      box-shadow: 0px 1px 2px rgba(60, 64, 67, 0.3), 0px 1px 3px 1px rgba(60, 64, 67, 0.15);\n",
              "      fill: #174EA6;\n",
              "    }\n",
              "\n",
              "    [theme=dark] .colab-df-convert {\n",
              "      background-color: #3B4455;\n",
              "      fill: #D2E3FC;\n",
              "    }\n",
              "\n",
              "    [theme=dark] .colab-df-convert:hover {\n",
              "      background-color: #434B5C;\n",
              "      box-shadow: 0px 1px 3px 1px rgba(0, 0, 0, 0.15);\n",
              "      filter: drop-shadow(0px 1px 2px rgba(0, 0, 0, 0.3));\n",
              "      fill: #FFFFFF;\n",
              "    }\n",
              "  </style>\n",
              "\n",
              "      <script>\n",
              "        const buttonEl =\n",
              "          document.querySelector('#df-9ebcc7e3-dd3a-4c1e-a703-173348b74027 button.colab-df-convert');\n",
              "        buttonEl.style.display =\n",
              "          google.colab.kernel.accessAllowed ? 'block' : 'none';\n",
              "\n",
              "        async function convertToInteractive(key) {\n",
              "          const element = document.querySelector('#df-9ebcc7e3-dd3a-4c1e-a703-173348b74027');\n",
              "          const dataTable =\n",
              "            await google.colab.kernel.invokeFunction('convertToInteractive',\n",
              "                                                     [key], {});\n",
              "          if (!dataTable) return;\n",
              "\n",
              "          const docLinkHtml = 'Like what you see? Visit the ' +\n",
              "            '<a target=\"_blank\" href=https://colab.research.google.com/notebooks/data_table.ipynb>data table notebook</a>'\n",
              "            + ' to learn more about interactive tables.';\n",
              "          element.innerHTML = '';\n",
              "          dataTable['output_type'] = 'display_data';\n",
              "          await google.colab.output.renderOutput(dataTable, element);\n",
              "          const docLink = document.createElement('div');\n",
              "          docLink.innerHTML = docLinkHtml;\n",
              "          element.appendChild(docLink);\n",
              "        }\n",
              "      </script>\n",
              "    </div>\n",
              "  </div>\n",
              "  "
            ]
          },
          "metadata": {},
          "execution_count": 10
        }
      ]
    },
    {
      "cell_type": "code",
      "source": [
        "#consultas estatísticas:\n",
        "print('Visitantes:')\n",
        "dados = df_filtrado['Visitantes_mensais'] # trazendo dados da coluna Visitantes_mensais\n",
        "print(f'O valor máximo foi de {dados.values.max()}') # imprime o valor máximo\n",
        "print(f'O valor mínimo foi de {dados.values.min()}') # imprime o valor mínimo\n",
        "print(f'O valor médio foi de {dados.values.mean()}') # imprime o valor médio\n",
        "print(f'O valor do desvio padrão foi de {dados.values.std()}') # imprime o valor do desvio padrão\n",
        "\n",
        "\n"
      ],
      "metadata": {
        "colab": {
          "base_uri": "https://localhost:8080/"
        },
        "id": "BbWokgmEB0sl",
        "outputId": "073dfe41-74a8-4160-ef35-55347492e2fc"
      },
      "execution_count": null,
      "outputs": [
        {
          "output_type": "stream",
          "name": "stdout",
          "text": [
            "Visitantes:\n",
            "O valor máximo foi de 1560\n",
            "O valor mínimo foi de 10\n",
            "O valor médio foi de 786.3504464285714\n",
            "O valor do desvio padrão foi de 265.24114272571586\n"
          ]
        }
      ]
    },
    {
      "cell_type": "code",
      "source": [
        "print('Vendas em US$:')\n",
        "dados = df_filtrado['Vendas_da_loja(US$)'] # trazendo dados da coluna Vendas_da_loja(US$)\n",
        "print(f'O valor máximo foi de {dados.values.max()}') # imprime o valor máximo\n",
        "print(f'O valor mínimo foi de {dados.values.min()}') # imprime o valor mínimo\n",
        "print(f'O valor médio foi de {dados.values.mean()}') # imprime o valor médio\n",
        "print(f'O valor do desvio padrão foi de {dados.values.std()}') # imprime o valor do desvio padrão"
      ],
      "metadata": {
        "colab": {
          "base_uri": "https://localhost:8080/"
        },
        "id": "mzsm8qXOFMrw",
        "outputId": "e08cad01-636d-4970-c57d-42713042d50c"
      },
      "execution_count": null,
      "outputs": [
        {
          "output_type": "stream",
          "name": "stdout",
          "text": [
            "Vendas em US$:\n",
            "O valor máximo foi de 116320\n",
            "O valor mínimo foi de 14920\n",
            "O valor médio foi de 59351.30580357143\n",
            "O valor do desvio padrão foi de 17181.14616881951\n"
          ]
        }
      ]
    },
    {
      "cell_type": "code",
      "source": [
        "print('Itens disponíveis:')\n",
        "dados = df_filtrado['ítens_disponíveis'] # trazendo dados da coluna ítens_disponíveis\n",
        "print(f'O valor máximo foi de {dados.values.max()}') # imprime o valor máximo\n",
        "print(f'O valor mínimo foi de {dados.values.min()}') # imprime o valor mínimo\n",
        "print(f'O valor médio foi de {dados.values.mean()}') # imprime o valor médio\n",
        "print(f'O valor do desvio padrão foi de {dados.values.std()}') # imprime o valor do desvio padrão"
      ],
      "metadata": {
        "colab": {
          "base_uri": "https://localhost:8080/"
        },
        "id": "lE92c_zZFte3",
        "outputId": "4d9b3a02-9489-459f-a454-84082591ae48"
      },
      "execution_count": null,
      "outputs": [
        {
          "output_type": "stream",
          "name": "stdout",
          "text": [
            "Itens disponíveis:\n",
            "O valor máximo foi de 2667\n",
            "O valor mínimo foi de 932\n",
            "O valor médio foi de 1782.0357142857142\n",
            "O valor do desvio padrão foi de 299.7046664924438\n"
          ]
        }
      ]
    }
  ]
}